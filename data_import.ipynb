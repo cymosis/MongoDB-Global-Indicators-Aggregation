{
 "cells": [
  {
   "cell_type": "code",
   "execution_count": 2,
   "id": "a0366d85",
   "metadata": {},
   "outputs": [],
   "source": [
    "import pymongo\n",
    "import json\n",
    "from pymongo import MongoClient, InsertOne"
   ]
  },
  {
   "cell_type": "code",
   "execution_count": null,
   "id": "56439fd6",
   "metadata": {},
   "outputs": [
    {
     "name": "stdout",
     "output_type": "stream",
     "text": [
      "Inserted 125 documents.\n"
     ]
    }
   ],
   "source": [
    "\n",
    "with open('all_countrymetrics.json', 'r') as file:\n",
    "    file_content = file.read()\n",
    "data = {\"content\": file_content}\n",
    "with open('allcountry.json', 'w') as json_file:\n",
    "    json.dump(data, json_file, indent=4)\n",
    "\n",
    "client = MongoClient(\"mongodb://localhost:27017\")\n",
    "db = client[\"GlobalStats\"]\n",
    "collection = db[\"All Country Metrics\"]\n",
    "with open(\"allcountry.json\", \"r\", encoding=\"utf-8\") as f:\n",
    "    outer_json = json.load(f)\n",
    "inner_json = json.loads(outer_json[\"content\"])\n",
    "items = inner_json[\"results\"][0][\"items\"]\n",
    "requesting = [InsertOne(item) for item in items]\n",
    "result = collection.bulk_write(requesting)\n",
    "print(f\"Inserted {result.inserted_count} documents.\")\n",
    "client.close()\n"
   ]
  },
  {
   "cell_type": "code",
   "execution_count": 15,
   "id": "dd2bebfe",
   "metadata": {},
   "outputs": [
    {
     "name": "stdout",
     "output_type": "stream",
     "text": [
      "Inserted 795 documents.\n"
     ]
    }
   ],
   "source": [
    "\n",
    "with open('all_covid_stats', 'r') as file:\n",
    "    file_content = file.read()\n",
    "data = {\"content\": file_content}\n",
    "with open('allcovid.json', 'w') as json_file:\n",
    "    json.dump(data, json_file, indent=4)\n",
    "\n",
    "client = MongoClient(\"mongodb://localhost:27017\")\n",
    "db = client[\"GlobalStats\"]\n",
    "collection = db[\"Covid Stats\"]\n",
    "\n",
    "with open(\"allcovid.json\", \"r\", encoding=\"utf-8\") as f:\n",
    "    outer_json = json.load(f)\n",
    "inner_json = json.loads(outer_json[\"content\"])\n",
    "items = inner_json[\"results\"][0][\"items\"]\n",
    "requesting = [InsertOne(item) for item in items]\n",
    "result = collection.bulk_write(requesting)\n",
    "print(f\"Inserted {result.inserted_count} documents.\")\n",
    "client.close()\n"
   ]
  },
  {
   "cell_type": "code",
   "execution_count": 16,
   "id": "33e2aa1e",
   "metadata": {},
   "outputs": [
    {
     "name": "stdout",
     "output_type": "stream",
     "text": [
      "Inserted 238 documents.\n"
     ]
    }
   ],
   "source": [
    "\n",
    "with open('all_doctor_patient', 'r') as file:\n",
    "    file_content = file.read()\n",
    "data = {\"content\": file_content}\n",
    "with open('alldoctor.json', 'w') as json_file:\n",
    "    json.dump(data, json_file, indent=4)\n",
    "\n",
    "client = MongoClient(\"mongodb://localhost:27017\")\n",
    "db = client[\"GlobalStats\"]\n",
    "collection = db[\"Doctor Patient\"]\n",
    "\n",
    "with open(\"alldoctor.json\", \"r\", encoding=\"utf-8\") as f:\n",
    "    outer_json = json.load(f)\n",
    "inner_json = json.loads(outer_json[\"content\"])\n",
    "items = inner_json[\"results\"][0][\"items\"]\n",
    "requesting = [InsertOne(item) for item in items]\n",
    "result = collection.bulk_write(requesting)\n",
    "print(f\"Inserted {result.inserted_count} documents.\")\n",
    "client.close()\n"
   ]
  },
  {
   "cell_type": "code",
   "execution_count": 17,
   "id": "f37aa513",
   "metadata": {},
   "outputs": [
    {
     "name": "stdout",
     "output_type": "stream",
     "text": [
      "Inserted 1544 documents.\n"
     ]
    }
   ],
   "source": [
    "\n",
    "with open('all_global.json', 'r') as file:\n",
    "    file_content = file.read()\n",
    "data = {\"content\": file_content}\n",
    "with open('allglobal.json', 'w') as json_file:\n",
    "    json.dump(data, json_file, indent=4)\n",
    "\n",
    "client = MongoClient(\"mongodb://localhost:27017\")\n",
    "db = client[\"GlobalStats\"]\n",
    "collection = db[\"Global Summary\"]\n",
    "\n",
    "with open(\"allglobal.json\", \"r\", encoding=\"utf-8\") as f:\n",
    "    outer_json = json.load(f)\n",
    "inner_json = json.loads(outer_json[\"content\"])\n",
    "items = inner_json[\"results\"][0][\"items\"]\n",
    "requesting = [InsertOne(item) for item in items]\n",
    "result = collection.bulk_write(requesting)\n",
    "print(f\"Inserted {result.inserted_count} documents.\")\n",
    "client.close()\n"
   ]
  },
  {
   "cell_type": "code",
   "execution_count": 18,
   "id": "49790555",
   "metadata": {},
   "outputs": [
    {
     "name": "stdout",
     "output_type": "stream",
     "text": [
      "Inserted 153 documents.\n"
     ]
    }
   ],
   "source": [
    "\n",
    "with open('all_mental_countries', 'r') as file:\n",
    "    file_content = file.read()\n",
    "data = {\"content\": file_content}\n",
    "with open('allmental.json', 'w') as json_file:\n",
    "    json.dump(data, json_file, indent=4)\n",
    "\n",
    "client = MongoClient(\"mongodb://localhost:27017\")\n",
    "db = client[\"GlobalStats\"]\n",
    "collection = db[\"Mental Health Country\"]\n",
    "\n",
    "with open(\"allmental.json\", \"r\", encoding=\"utf-8\") as f:\n",
    "    outer_json = json.load(f)\n",
    "inner_json = json.loads(outer_json[\"content\"])\n",
    "items = inner_json[\"results\"][0][\"items\"]\n",
    "requesting = [InsertOne(item) for item in items]\n",
    "result = collection.bulk_write(requesting)\n",
    "print(f\"Inserted {result.inserted_count} documents.\")\n",
    "client.close()\n"
   ]
  },
  {
   "cell_type": "code",
   "execution_count": 20,
   "id": "389f9612",
   "metadata": {},
   "outputs": [
    {
     "name": "stdout",
     "output_type": "stream",
     "text": [
      "Inserted 253680 documents.\n"
     ]
    }
   ],
   "source": [
    "\n",
    "with open('diabetes_tranform', 'r') as file:\n",
    "    file_content = file.read()\n",
    "data = {\"content\": file_content}\n",
    "with open('alldiabetes.json', 'w') as json_file:\n",
    "    json.dump(data, json_file, indent=4)\n",
    "\n",
    "client = MongoClient(\"mongodb://localhost:27017\")\n",
    "db = client[\"GlobalStats\"]\n",
    "collection = db[\"Diabetes Transform\"]\n",
    "\n",
    "with open(\"alldiabetes.json\", \"r\", encoding=\"utf-8\") as f:\n",
    "    outer_json = json.load(f)\n",
    "inner_json = json.loads(outer_json[\"content\"])\n",
    "items = inner_json[\"results\"][0][\"items\"]\n",
    "requesting = [InsertOne(item) for item in items]\n",
    "result = collection.bulk_write(requesting)\n",
    "print(f\"Inserted {result.inserted_count} documents.\")\n",
    "client.close()\n"
   ]
  }
 ],
 "metadata": {
  "kernelspec": {
   "display_name": "Python 3",
   "language": "python",
   "name": "python3"
  },
  "language_info": {
   "codemirror_mode": {
    "name": "ipython",
    "version": 3
   },
   "file_extension": ".py",
   "mimetype": "text/x-python",
   "name": "python",
   "nbconvert_exporter": "python",
   "pygments_lexer": "ipython3",
   "version": "3.11.2"
  }
 },
 "nbformat": 4,
 "nbformat_minor": 5
}
